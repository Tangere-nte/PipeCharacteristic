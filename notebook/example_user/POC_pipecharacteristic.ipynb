{
 "cells": [
  {
   "cell_type": "markdown",
   "metadata": {},
   "source": [
    "# Problem 1: Solving for Flow"
   ]
  },
  {
   "cell_type": "code",
   "execution_count": null,
   "metadata": {},
   "outputs": [],
   "source": [
    "import numpy as np\n",
    "from dataclasses import dataclass\n",
    "\n",
    "IArray2D = np.ndarray # Int numpy array 2D\n",
    "FArray = np.ndarray # Float numpy array\n",
    "\n",
    "@dataclass\n",
    "class SummarizeResult1:\n",
    "    \"\"\"\n",
    "        Object to match \"key\" and \"value: (pressures, flows)\"\n",
    "        There are 4 keys: sources, junctions, sinks, and all\n",
    "    \"\"\"\n",
    "    def __init__(self, **kwargs):\n",
    "        for key, (pressure_value, flow_value) in kwargs.items():\n",
    "            setattr(self, key, self.SubObject(pressures=pressure_value, flows=flow_value))\n",
    "\n",
    "    class SubObject:\n",
    "        \"\"\"\n",
    "            Suboject to split pressures and flows to .pressures and .flows respectively\n",
    "        \"\"\"\n",
    "        def __init__(self, **kwargs):\n",
    "            for key, value in kwargs.items():\n",
    "                setattr(self, key, value)\n",
    "\n",
    "\n",
    "\n",
    "def calculate_flow_from_sources(flow_sources: FArray, # Shape (number of sources,)\n",
    "                                num_vertices: int, # the number of sources\n",
    "                                edge_indices: IArray2D, # Shape (number of edges, 2) as a pair index of source and destination\n",
    "                                ) -> FArray: # Shape (number of total nodes,)\n",
    "    \n",
    "    \"\"\"\n",
    "        calculate the flows of every junctions and sinks from continuity equation\n",
    "            f_j = summation fij over i; i is the init node which has the target at jth node\n",
    "        \n",
    "        Args:\n",
    "            flow_sources (FArray)   : set of the mass flow rate of each pipe in kilogram per second.\n",
    "            num_vertices (int)      : the number of vertices (aka. nodes)\n",
    "            edge_indices (LArray2D) : indices of every init nodes and paired target of that flow, ordering [sources, junctions, sinks]\n",
    "                                        e.g. node 1 -> 3, and 2 -> 3, edge_indices = np.array[[1, 2], [3, 3]]\n",
    "        \n",
    "        Returns:\n",
    "            FArray  : set of each of flow rate in kilogram per second.\n",
    "    \"\"\"\n",
    "    \n",
    "    # Determine the number of sources\n",
    "    num_sources = flow_sources.size\n",
    "\n",
    "    # Node indices which aren't sources\n",
    "    node_idx_not_sources =  np.arange(num_sources, num_vertices)\n",
    "\n",
    "    # Assign the sources flows\n",
    "    flows = np.zeros(num_vertices)\n",
    "    flows[:num_sources] = flow_sources\n",
    "\n",
    "    # Calculate the rest flows\n",
    "    for idx in node_idx_not_sources:\n",
    "        flows[idx] = (flows[edge_indices[0][np.where(edge_indices[1] == idx)]]).sum()\n",
    "        \n",
    "    return flows\n",
    "    \n",
    "\n",
    "def calculate_p_flow(\n",
    "        edge_indices: LArray2D, # Shape (number of edges, 2) as a pair index of source and destination\n",
    "        heights: FArray,  # Shape (number of total nodes,)\n",
    "        bs: FArray,  # Shape (number of edges,)\n",
    "        p_sinks: FArray, # Shape (number of sinks,)\n",
    "        flow_sources: FArray, # Shape (number of sources)\n",
    "    ) -> SummarizeResult1: # Shape pressures: (number of total nodes,), flows: (number of total nodes,)\n",
    "\n",
    "    \"\"\"\n",
    "        Calculate the flows of every junctions and sinks from continuity equation\n",
    "            f_j = summation fij over i\n",
    "        \n",
    "        and also calculate the pressure of sources and junctions from the pressures of sinks according to govern equation \n",
    "            P_j = P_i - rho g (h_j - h_i) + Bij * fij ^ k\n",
    "    \n",
    "            \n",
    "\n",
    "        Args:\n",
    "            edge_indices (LArray2D) : indices of every init nodes and pair target of that every flow\n",
    "                                        e.g. node 1 -> 3, and 2 -> 3, edge_indices = np.array[[1, 2], [3, 3]]\n",
    "            heights (FArray)        : set of the height of each node in meters.\n",
    "            bs (FArray)             : set of the pipe Characteristic of each flow in Pascal second^k per kilogram^k.\n",
    "            p_sinks (FArray)        : set of the pressure of sinks in Pascal units.\n",
    "            flow_sources (FArray)   : set of the mass flow rate of each pipe in kilogram per second.\n",
    "        \n",
    "        Constant args:\n",
    "            DENSITY (float)             : density of fluid in kilogram per cubic meters.\n",
    "            GRAVITATIONAL_ACCEL (float) : gravitational acceleration in meter per square seconds.\n",
    "            K (float)                   : constant exponential of flow to determine the effect to friction (dimensionless variable).\n",
    "\n",
    "        Returns:\n",
    "            SummarizeResult1   : a object that collects a set of every node's pressure and a set of every pipe's flow\n",
    "                                        in the unit of Pascal and kilogram per second respectively.\n",
    "    \n",
    "    \"\"\"\n",
    "    \n",
    "\n",
    "    # Constant setting\n",
    "    DENSITY = 700. # unit: kg/m^3\n",
    "    GRAVITATIONAL_ACCEL = 9.81 # unit: m/s^2\n",
    "    K = 2. # empirical parameter\n",
    "\n",
    "\n",
    "    # Determine the numbers of sources, vertices, sinks, and edges\n",
    "    num_sources = flow_sources.size\n",
    "    num_vertices = heights.size\n",
    "    num_sinks = p_sinks.size\n",
    "    num_edges = edge_indices[0].size\n",
    "    \n",
    "\n",
    "    flows = calculate_flow_from_sources(flow_sources, num_vertices, edge_indices)\n",
    "    \n",
    "    # Assign the sinks' pressure\n",
    "    ps = np.zeros(num_vertices)\n",
    "    ps[-num_sinks:] = p_sinks\n",
    "\n",
    "\n",
    "    # Calculate the rest pressures\n",
    "    for edge_idx in np.arange(num_edges-1,-1,-1):\n",
    "        idx_init = edge_indices[0][edge_idx]\n",
    "        idx_target = edge_indices[1][edge_idx]\n",
    "        # P_init = P_target + rho g (h_target - h_init) - Bij * fij ^ k\n",
    "        ps[idx_init] = ps[idx_target] + DENSITY * GRAVITATIONAL_ACCEL * (heights[idx_target] - heights[idx_init]) - bs[edge_idx] * (flows[idx_init])**K\n",
    "    \n",
    "    return SummarizeResult1(sources=(ps[:num_sources], flows[:num_sources]), junctions=(ps[num_sources:num_vertices-num_sinks], flows[num_sources:num_vertices-num_sinks]), sinks=(ps[num_vertices-num_sinks:], flows[num_vertices-num_sinks]), all=(ps,flows))\n",
    "    \n",
    "\n"
   ]
  },
  {
   "cell_type": "code",
   "execution_count": 2,
   "metadata": {},
   "outputs": [],
   "source": [
    "import numpy as np\n",
    "\n",
    "heights = np.array([0.0, 0.0, 0.0, 1.0, 1.0, 3.0, 10.0]) # meter unit\n",
    "edge_indices = np.array([[0, 1, 2, 3, 4, 5], [4, 4, 5, 5, 6, 6]]) # (init, target) arange from sources, junctions, and sinks\n",
    "bs = np.random.rand(6) * 20 # Pascal second^k per kilogram^k\n",
    "p_sinks =  np.array([10000]) # Pascal unit\n",
    "flow_sources = np.array([20., 20., 30., 30.]) # kilogram per second unit"
   ]
  },
  {
   "cell_type": "code",
   "execution_count": 3,
   "metadata": {},
   "outputs": [
    {
     "data": {
      "text/plain": [
       "array([10.09187968,  1.64031003,  0.20330576, 13.88288674,  3.70689178,\n",
       "       11.07997722])"
      ]
     },
     "execution_count": 3,
     "metadata": {},
     "output_type": "execute_result"
    }
   ],
   "source": [
    "bs"
   ]
  },
  {
   "cell_type": "code",
   "execution_count": 4,
   "metadata": {},
   "outputs": [],
   "source": [
    "result_1 = calculate_p_flow(edge_indices, heights, bs, p_sinks, flow_sources)"
   ]
  },
  {
   "cell_type": "code",
   "execution_count": 5,
   "metadata": {},
   "outputs": [
    {
     "data": {
      "text/plain": [
       "(array([68702.22127552, 72082.84913335, 38599.10683001, 19420.48394835]),\n",
       " array([65871.9731458 , 18181.08201119]),\n",
       " array([40., 60.]),\n",
       " np.float64(100.0))"
      ]
     },
     "execution_count": 5,
     "metadata": {},
     "output_type": "execute_result"
    }
   ],
   "source": [
    "result_1.sources.pressures, result_1.junctions.pressures, result_1.junctions.flows, result_1.sinks.flows"
   ]
  },
  {
   "cell_type": "markdown",
   "metadata": {},
   "source": [
    "# Problem 2: Solving Pipe Characteristic"
   ]
  },
  {
   "cell_type": "code",
   "execution_count": null,
   "metadata": {},
   "outputs": [],
   "source": [
    "import numpy as np\n",
    "from dataclasses import dataclass\n",
    "\n",
    "FArray = np.ndarray\n",
    "\n",
    "\n",
    "@dataclass\n",
    "class SummarizeResult2:\n",
    "    \"\"\"\n",
    "        Object to match \"key\" and \"value: pipe characteristic\"\n",
    "        There are 4 keys: sources, junctions, sinks, and all\n",
    "    \"\"\"\n",
    "    def __init__(self, **kwargs):\n",
    "        for key, b_value in kwargs.items():\n",
    "            setattr(self, key, b_value)\n",
    "\n",
    "            \n",
    "def calculate_pipe_characteristic(\n",
    "        edge_indices: IArray2D, # Shape (number of edges, 2) as a pair index of init and target\n",
    "        heights: FArray,  # Shape (number of total nodes,)\n",
    "        p_s: FArray, # Shape (number of total nodes,)\n",
    "        flow_sources: FArray, # Shape (number of sources)\n",
    "    ) -> SummarizeResult2: # Shape (number of total nodes,), (number of total nodes,)\n",
    "    \"\"\"\n",
    "        Calculate the flows of every junctions and sinks from continuity equation\n",
    "            f_j = summation fi,j over i\n",
    "        \n",
    "        and then solving the pipe characteristics from govern equation\n",
    "            Bij = 1/fij ^ k (P_j - P_i - rho g (h_i - h_j)\n",
    "            where i is the init node, and j is the targeted node.\n",
    "    \n",
    "            \n",
    "            \n",
    "        Args:\n",
    "            edge_indices (LArray2D) : indices of every init nodes and pair target of that every flow\n",
    "                                        e.g. node 1 -> 3, and 2 -> 3, edge_indices = np.array[[1, 2], [3, 3]]\n",
    "            heights (FArray)        : set of the height of each node in meters.\n",
    "            P_s (FArray)            : set of the pressure of each node in Pascal units.\n",
    "            flow_sources (FArray)   : set of the mass flow rate of each pipe in kilogram per second.\n",
    "\n",
    "        Constant args:\n",
    "            density (float)             : density of fluid in kilogram per cubic meters.\n",
    "            gravitational_accel (float) : gravitational acceleration in meter per square seconds.\n",
    "            k (float)                   : constant exponential of flow to determine the effect to friction (dimensionless variable).\n",
    "\n",
    "        Returns:\n",
    "            SummarizeResult_2   : each pipe's characteristic in Pascal second per kilogram.\n",
    "    \"\"\"\n",
    "    \n",
    "    # Constant setting\n",
    "    DENSITY = 700. # unit: kg/m^3\n",
    "    GRAVITATIONAL_ACCEL = 9.81 # unit: m/s^2\n",
    "    K = 2. # empirical parameter\n",
    "\n",
    "    \n",
    "    # Determine the numbers of sources, vertices, sinks, and edges\n",
    "    num_sources = flow_sources.size\n",
    "    num_vertices = heights.size\n",
    "    num_sinks = p_sinks.size\n",
    "    num_edges = edge_indices[0].size\n",
    "    \n",
    "    # Calculate the rest flows\n",
    "    flows = calculate_flow_from_sources(flow_sources, num_vertices, edge_indices)\n",
    "\n",
    "    # Solving for Pipe Characteristics\n",
    "    bs = np.zeros(num_edges)\n",
    "    for edge_idx in np.arange(num_edges):\n",
    "        \n",
    "        idx_init = edge_indices[0][edge_idx]\n",
    "        idx_target = edge_indices[1][edge_idx]\n",
    "        # Bij = 1/fij ^ k (P_target - P_init - rho g (h_init - h_target)\n",
    "        bs[edge_idx] = (p_s[idx_target] - p_s[idx_init] - DENSITY * GRAVITATIONAL_ACCEL * (heights[idx_init] - heights[idx_target]))/(flows[idx_init])**K\n",
    "    \n",
    "    return SummarizeResult2(sources=bs[:num_sources], junctions=bs[num_sources:num_vertices-num_sinks], sinks=bs[num_vertices-num_sinks:], all=bs)\n",
    "    \n"
   ]
  },
  {
   "cell_type": "code",
   "execution_count": 13,
   "metadata": {},
   "outputs": [],
   "source": [
    "result_2 = calculate_pipe_characteristic(edge_indices, heights, result_1.all.pressures, flow_sources)"
   ]
  },
  {
   "cell_type": "code",
   "execution_count": 14,
   "metadata": {},
   "outputs": [
    {
     "data": {
      "text/plain": [
       "SummarizeResult2()"
      ]
     },
     "execution_count": 14,
     "metadata": {},
     "output_type": "execute_result"
    }
   ],
   "source": [
    "result_2"
   ]
  },
  {
   "cell_type": "code",
   "execution_count": 15,
   "metadata": {},
   "outputs": [
    {
     "data": {
      "text/plain": [
       "(array([10.09187968,  1.64031003,  0.20330576, 13.88288674]),\n",
       " array([ 3.70689178, 11.07997722]),\n",
       " array([], dtype=float64),\n",
       " array([10.09187968,  1.64031003,  0.20330576, 13.88288674,  3.70689178,\n",
       "        11.07997722]))"
      ]
     },
     "execution_count": 15,
     "metadata": {},
     "output_type": "execute_result"
    }
   ],
   "source": [
    "result_2.sources, result_2.junctions, result_2.sinks, result_2.all"
   ]
  },
  {
   "cell_type": "code",
   "execution_count": 16,
   "metadata": {},
   "outputs": [
    {
     "data": {
      "text/plain": [
       "array([10.09187968,  1.64031003,  0.20330576, 13.88288674,  3.70689178,\n",
       "       11.07997722])"
      ]
     },
     "execution_count": 16,
     "metadata": {},
     "output_type": "execute_result"
    }
   ],
   "source": [
    "bs"
   ]
  },
  {
   "cell_type": "code",
   "execution_count": null,
   "metadata": {},
   "outputs": [],
   "source": []
  }
 ],
 "metadata": {
  "kernelspec": {
   "display_name": "Python 3 (ipykernel)",
   "language": "python",
   "name": "python3"
  },
  "language_info": {
   "codemirror_mode": {
    "name": "ipython",
    "version": 3
   },
   "file_extension": ".py",
   "mimetype": "text/x-python",
   "name": "python",
   "nbconvert_exporter": "python",
   "pygments_lexer": "ipython3",
   "version": "3.12.3"
  }
 },
 "nbformat": 4,
 "nbformat_minor": 4
}
